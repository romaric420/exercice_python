{
 "cells": [
  {
   "cell_type": "code",
   "execution_count": 1,
   "id": "ec55c80f",
   "metadata": {},
   "outputs": [
    {
     "name": "stdout",
     "output_type": "stream",
     "text": [
      "bingo jean\n"
     ]
    }
   ],
   "source": [
    "def seyhello(nom):\n",
    "    print(f\"bingo {nom}\")\n",
    "seyhello(\"jean\")"
   ]
  },
  {
   "cell_type": "code",
   "execution_count": 3,
   "id": "26100b03",
   "metadata": {},
   "outputs": [
    {
     "name": "stdout",
     "output_type": "stream",
     "text": [
      " romaric aime les teachers du net \n",
      " romaric aime les teachers du net \n",
      " romaric aime les teachers du net \n"
     ]
    }
   ],
   "source": [
    "def fanTdn(nom,nbre_max):\n",
    "    for i in range(0,nbre_max):\n",
    "        print(f\" {nom} aime les teachers du net \")\n",
    "fanTdn(\"romaric\",3)"
   ]
  },
  {
   "cell_type": "code",
   "execution_count": 6,
   "id": "5f14ccf9",
   "metadata": {},
   "outputs": [
    {
     "data": {
      "text/plain": [
       "False"
      ]
     },
     "execution_count": 6,
     "metadata": {},
     "output_type": "execute_result"
    }
   ],
   "source": [
    "def nbrePair(nbr):\n",
    "    if nbr % 2 == 0:\n",
    "        return True\n",
    "    else:\n",
    "        return False\n",
    "nbrePair(3)"
   ]
  },
  {
   "cell_type": "code",
   "execution_count": null,
   "id": "95239dd1",
   "metadata": {},
   "outputs": [],
   "source": []
  }
 ],
 "metadata": {
  "kernelspec": {
   "display_name": "Python 3 (ipykernel)",
   "language": "python",
   "name": "python3"
  },
  "language_info": {
   "codemirror_mode": {
    "name": "ipython",
    "version": 3
   },
   "file_extension": ".py",
   "mimetype": "text/x-python",
   "name": "python",
   "nbconvert_exporter": "python",
   "pygments_lexer": "ipython3",
   "version": "3.11.5"
  }
 },
 "nbformat": 4,
 "nbformat_minor": 5
}
