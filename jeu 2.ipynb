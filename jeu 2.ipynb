{
 "cells": [
  {
   "cell_type": "markdown",
   "id": "ee09bb45",
   "metadata": {},
   "source": [
    "# jeu  cherche le mon\n",
    "\n",
    "  "
   ]
  },
  {
   "cell_type": "code",
   "execution_count": null,
   "id": "71e3773b",
   "metadata": {},
   "outputs": [
    {
     "name": "stdout",
     "output_type": "stream",
     "text": [
      "*** je viens de penser a un nombre devine stp ***\"n\"\n",
      "entrer un nombre compris entre 1 et 10052\n",
      "nombre trop grand\n"
     ]
    }
   ],
   "source": [
    "from random import randrange\n",
    "print(\"*** je viens de penser a un nombre devine stp ***\\\"n\\\"\")\n",
    "nbreOdi = randrange(1,101)\n",
    "while(True):\n",
    "    reponse = int(input(\"entrer un nombre compris entre 1 et 100 \"))\n",
    "    if(reponse == nbreOdi):\n",
    "        print(f\"bingo tu as trouver le nombre c'est bien {i}\")\n",
    "    elif(reponse > nbreOdi):\n",
    "        print(\"nombre trop grand\")\n",
    "    else:\n",
    "        print(\"nombre trop petit\")\n",
    "        "
   ]
  },
  {
   "cell_type": "code",
   "execution_count": null,
   "id": "331d1b98",
   "metadata": {},
   "outputs": [],
   "source": []
  }
 ],
 "metadata": {
  "kernelspec": {
   "display_name": "Python 3 (ipykernel)",
   "language": "python",
   "name": "python3"
  },
  "language_info": {
   "codemirror_mode": {
    "name": "ipython",
    "version": 3
   },
   "file_extension": ".py",
   "mimetype": "text/x-python",
   "name": "python",
   "nbconvert_exporter": "python",
   "pygments_lexer": "ipython3",
   "version": "3.11.5"
  }
 },
 "nbformat": 4,
 "nbformat_minor": 5
}
