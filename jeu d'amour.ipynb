{
 "cells": [
  {
   "cell_type": "markdown",
   "id": "9011ba1f",
   "metadata": {},
   "source": [
    "# jeu d'amour "
   ]
  },
  {
   "cell_type": "code",
   "execution_count": 13,
   "id": "b147e954",
   "metadata": {},
   "outputs": [
    {
     "name": "stdout",
     "output_type": "stream",
     "text": [
      "est ce que tu m'aimes? \n",
      "oui je taime de tout moncoeur je ne peux pas vivre sans toi\n"
     ]
    }
   ],
   "source": [
    "import random\n",
    "import time\n",
    "reponseFille = random.randrange(0,2)\n",
    "print(\"est ce que tu m'aimes? \")\n",
    "time.sleep(4)\n",
    "\n",
    "if(reponseFille == 0):\n",
    "    print(\"je ne taime pas du tout,bien au contraire je te deteste !\")\n",
    "else:print(\"oui je taime de tout moncoeur je ne peux pas vivre sans toi\")"
   ]
  },
  {
   "cell_type": "code",
   "execution_count": null,
   "id": "a2cbd7bf",
   "metadata": {},
   "outputs": [],
   "source": []
  }
 ],
 "metadata": {
  "kernelspec": {
   "display_name": "Python 3 (ipykernel)",
   "language": "python",
   "name": "python3"
  },
  "language_info": {
   "codemirror_mode": {
    "name": "ipython",
    "version": 3
   },
   "file_extension": ".py",
   "mimetype": "text/x-python",
   "name": "python",
   "nbconvert_exporter": "python",
   "pygments_lexer": "ipython3",
   "version": "3.11.5"
  }
 },
 "nbformat": 4,
 "nbformat_minor": 5
}
